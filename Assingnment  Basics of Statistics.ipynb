{
 "cells": [
  {
   "cell_type": "code",
   "execution_count": 1,
   "id": "1021c55d-0e9d-48fc-aae6-4b141b983bd3",
   "metadata": {},
   "outputs": [],
   "source": [
    "#Que.1. Explain the different types of data (qualitative and quantitative) and provide examples of each. Discuss nominal, ordinal, interval, and ratio scales."
   ]
  },
  {
   "cell_type": "code",
   "execution_count": null,
   "id": "01ff13eb-dca3-4fd7-8590-3e0f8a3a032c",
   "metadata": {},
   "outputs": [],
   "source": [
    "#Types of data \n",
    "\n",
    "##First type of data\n",
    "#Qualitative Data : This type of data describes qualities or characteristics that can't be measured with numbers. its mainly in categories .\n",
    "# Example 1 : \n",
    "# Nominal Scale : These are just categories with no specific order.\n",
    "   # Example : Gender (male, female). Hair color (black, brown, red)\n",
    "\n",
    "# Example 2:\n",
    "# Ordinal Scale : These are just categories with an specific order. \n",
    "    # Example : Education level (high school , bachelor's , master's)\n",
    "\n",
    "\n",
    "##Second type of data \n",
    "# Quantitative Data \n",
    "# This data represents measurable quantities and can be divided into discrete and continuous data.\n",
    "# Example 1: \n",
    "# Discrete Data : In this data it will take specific finite whole number values, this are countable data.\n",
    "    # Example : number of childern (5 childern), number of bank account (3 account)\n",
    "# Example 2: \n",
    "# Continuous Data : This is measurable data that can take any value within a range \n",
    "    # Example : Height(170.5 cm), Weight (65kg)\n",
    "\n",
    "\n",
    "\n"
   ]
  }
 ],
 "metadata": {
  "kernelspec": {
   "display_name": "Python 3 (ipykernel)",
   "language": "python",
   "name": "python3"
  },
  "language_info": {
   "codemirror_mode": {
    "name": "ipython",
    "version": 3
   },
   "file_extension": ".py",
   "mimetype": "text/x-python",
   "name": "python",
   "nbconvert_exporter": "python",
   "pygments_lexer": "ipython3",
   "version": "3.12.6"
  }
 },
 "nbformat": 4,
 "nbformat_minor": 5
}
